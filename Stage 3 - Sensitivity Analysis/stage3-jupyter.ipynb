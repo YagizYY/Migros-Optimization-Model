{
 "cells": [
  {
   "cell_type": "code",
   "execution_count": 106,
   "metadata": {},
   "outputs": [],
   "source": [
    "import numpy as np\n",
    "from scipy.optimize import minimize"
   ]
  },
  {
   "cell_type": "code",
   "execution_count": 107,
   "metadata": {},
   "outputs": [],
   "source": [
    "def objective(x):\n",
    "    x1=x[0]\n",
    "    x2=x[1]\n",
    "    x3=x[2]\n",
    "    pc=15\n",
    "    py=10\n",
    "    pb=5\n",
    "    return -1*((2*x1+1.5*x2+1.75*x3)*pc+(3*x1+3*x2+x3)*py+(4*x1+2*x2+1.5*x3)*pb)\n",
    "def constraint1(x):\n",
    "    return 75 -(x[0]+x[1]+x[2])\n",
    "def constraint2(x):\n",
    "    return 1000-(10*x[0]+7.5*x[1]+5*x[2])\n",
    "def constraint3(x):\n",
    "    return 100 -(x[0]+x[1]+0.75*x[2])\n",
    "def constraint4(x):\n",
    "    return 600 -(7*x[0]+5*x[1]+2.5*x[2])\n",
    "\n",
    "\n",
    "\n",
    "    "
   ]
  },
  {
   "cell_type": "code",
   "execution_count": 108,
   "metadata": {},
   "outputs": [
    {
     "name": "stdout",
     "output_type": "stream",
     "text": [
      "2510.0\n"
     ]
    }
   ],
   "source": [
    "x0=[12,15,14]\n",
    "print(-1*(objective(x0)))"
   ]
  },
  {
   "cell_type": "code",
   "execution_count": 109,
   "metadata": {},
   "outputs": [],
   "source": [
    "b =(0.0,999.0)\n",
    "bnds=(b,b,b)\n",
    "con1={'type':'ineq','fun':constraint1}\n",
    "con2={'type':'ineq','fun':constraint2}\n",
    "con3={'type':'ineq','fun':constraint3}\n",
    "con4={'type':'ineq','fun':constraint4}\n",
    "cons=[con1,con2,con3,con4]\n"
   ]
  },
  {
   "cell_type": "code",
   "execution_count": 110,
   "metadata": {
    "scrolled": true
   },
   "outputs": [],
   "source": [
    "sol=minimize(objective,x0,method='SLSQP',bounds=bnds,constraints=cons)\n",
    "             "
   ]
  },
  {
   "cell_type": "code",
   "execution_count": 111,
   "metadata": {},
   "outputs": [
    {
     "name": "stdout",
     "output_type": "stream",
     "text": [
      "5999.999999505064\n",
      "[7.50000000e+01 0.00000000e+00 1.16081069e-09]\n"
     ]
    }
   ],
   "source": [
    "print(-1*(sol.fun))\n",
    "print(sol.x)"
   ]
  },
  {
   "cell_type": "code",
   "execution_count": 112,
   "metadata": {},
   "outputs": [],
   "source": []
  },
  {
   "cell_type": "code",
   "execution_count": null,
   "metadata": {},
   "outputs": [],
   "source": []
  }
 ],
 "metadata": {
  "kernelspec": {
   "display_name": "Python 3",
   "language": "python",
   "name": "python3"
  },
  "language_info": {
   "codemirror_mode": {
    "name": "ipython",
    "version": 3
   },
   "file_extension": ".py",
   "mimetype": "text/x-python",
   "name": "python",
   "nbconvert_exporter": "python",
   "pygments_lexer": "ipython3",
   "version": "3.8.3"
  }
 },
 "nbformat": 4,
 "nbformat_minor": 4
}
